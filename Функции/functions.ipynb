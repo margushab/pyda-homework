{
 "cells": [
  {
   "cell_type": "markdown",
   "metadata": {},
   "source": [
    "Вы работаете секретарем и вам постоянно приходят различные документы. Вы должны быть очень внимательны, чтобы не потерять ни один документ. Каталог документов хранится в следующем виде:"
   ]
  },
  {
   "cell_type": "code",
   "execution_count": 60,
   "metadata": {},
   "outputs": [],
   "source": [
    "documents = [\n",
    "    {'type': 'passport', 'number': '2207 876234', 'name': 'Василий Гупкин'},\n",
    "    {'type': 'invoice', 'number': '11-2', 'name': 'Геннадий Покемонов'},\n",
    "    {'type': 'insurance', 'number': '10006', 'name': 'Аристарх Павлов'}\n",
    "]"
   ]
  },
  {
   "cell_type": "markdown",
   "metadata": {},
   "source": [
    "Перечень полок, на которых находятся документы хранится в следующем виде:"
   ]
  },
  {
   "cell_type": "code",
   "execution_count": 61,
   "metadata": {},
   "outputs": [],
   "source": [
    "directories = {\n",
    "    '1': ['2207 876234', '11-2'],\n",
    "    '2': ['10006'],\n",
    "    '3': []\n",
    "}"
   ]
  },
  {
   "cell_type": "code",
   "execution_count": 85,
   "metadata": {},
   "outputs": [],
   "source": [
    "#1\n",
    "def get_name(document_number):\n",
    "    for entry in documents:\n",
    "        if document_number == entry['number']:\n",
    "            return 'The owner of the file is',entry['name']\n",
    "\n",
    "#2\n",
    "def get_shelf(document_number):\n",
    "    shelf = 0\n",
    "    for key, value in directories.items():\n",
    "        if document_number in value:\n",
    "            shelf = key\n",
    "            break\n",
    "    if shelf == 0:\n",
    "        return 'Document was not found'\n",
    "    else:\n",
    "        return 'Shelf number is', shelf\n",
    "        \n",
    "#3\n",
    "def get_all_documents():\n",
    "    for entry in documents:\n",
    "        return f\"{entry['type']} \\\"{entry['number']}\\\" \\\"{entry['name']}\\\"\"\n",
    "\n",
    "#4\n",
    "def add_shelf(new_shelf):\n",
    "    if new_shelf in directories.keys():\n",
    "        return 'Shelf already exists'\n",
    "    directories[new_shelf] = []\n",
    "    return directories\n",
    "\n",
    "#5 \n",
    "def delete_document(document_number):\n",
    "    for entry in documents:\n",
    "        if document_number == entry['number']:\n",
    "            documents.remove(entry)\n",
    "            break\n",
    "    for value in directories.values():\n",
    "        if document_number in value:\n",
    "            value.remove(document_number)\n",
    "    return 'Document was deleted'\n",
    "\n",
    "            \n",
    "            \n",
    "#6\n",
    "def move_doc(document_number, destination_shelf_number):\n",
    "    if destination_shelf_number not in directories.keys():\n",
    "        return 'Shelf does not exist'\n",
    "       \n",
    "    for key,value in directories.items():\n",
    "        if document_number in value:\n",
    "            value.remove(document_number)\n",
    "            directories[destination_shelf_number].append(document_number)\n",
    "            return 'Document moved'\n",
    "\n",
    "#7 \n",
    "def add_entry(document_number, doc_type, owner_name, destination_shelf_number):\n",
    "    if destination_shelf_number not in directories.keys():\n",
    "        return 'Shelf does not exist'\n",
    "    documents.append({'type': doc_type, 'number': document_number, 'name': owner_name})\n",
    "    directories[destination_shelf_number].append(document_number)\n",
    "    return f\"{documents} \\ {directories}\"\n",
    "       "
   ]
  },
  {
   "cell_type": "code",
   "execution_count": 87,
   "metadata": {},
   "outputs": [
    {
     "name": "stdout",
     "output_type": "stream",
     "text": [
      "Your command please: a\n",
      "Provide with document number please: 2425\n",
      "Provide with destination shelf number please: 2\n",
      "Provide with document type please: passport\n",
      "Provide with owner_name please: Bura\n",
      "[{'type': 'passport', 'number': '2207 876234', 'name': 'Василий Гупкин'}, {'type': 'invoice', 'number': '11-2', 'name': 'Геннадий Покемонов'}, {'type': 'insurance', 'number': '10006', 'name': 'Аристарх Павлов'}, {'type': 'passport', 'number': '2425', 'name': 'Bura'}] \\ {'1': ['2207 876234', '11-2'], '2': ['10006', '2425'], '3': []}\n"
     ]
    }
   ],
   "source": [
    "command = input ('Your command please: ')\n",
    "if command == 'p' or command == 'people':\n",
    "    document_number = input ('Provide with document number please: ')\n",
    "    print(get_name(document_number))\n",
    "elif command == 's' or command == 'shelf':\n",
    "    document_number = input ('Provide with document number please: ')\n",
    "    print(get_shelf(document_number))\n",
    "elif command == 'l' or command == 'list':\n",
    "    print(get_all_documents())\n",
    "elif command == 'as' or command == 'add shelf':\n",
    "    new_shelf = input('New shelf number please:')\n",
    "    print(add_shelf(new_shelf))\n",
    "elif command == 'd' or command == 'delete':\n",
    "    document_number = input ('Provide with document number please: ')\n",
    "    print(delete_document(document_number))\n",
    "elif command == 'm' or command == 'move':\n",
    "    document_number = input ('Provide with document number please: ')\n",
    "    destination_shelf_number = input ('Provide with destination shelf number please: ')\n",
    "    print(move_doc(document_number, destination_shelf_number))\n",
    "elif command == 'a' or command == 'add':\n",
    "    document_number = input ('Provide with document number please: ')\n",
    "    destination_shelf_number = input ('Provide with destination shelf number please: ')\n",
    "    doc_type = input ('Provide with document type please: ')\n",
    "    owner_name = input ('Provide with owner_name please: ')\n",
    "    print(add_entry(document_number, doc_type, owner_name, destination_shelf_number))\n",
    "    "
   ]
  },
  {
   "cell_type": "markdown",
   "metadata": {},
   "source": [
    "Необходимо реализовать пользовательские команды (внимание! это не название функций, которые должны быть выразительными, а команды, которые вводит пользователь, чтобы получить необходимый результат):\n",
    "  \n",
    "- p – people – команда, которая спросит номер документа и выведет имя человека, которому он принадлежит;  \n",
    "- s – shelf – команда, которая спросит номер документа и выведет номер полки, на которой он находится  \n",
    "*Правильно обработайте ситуации, когда пользователь будет вводить несуществующий документ*.\n",
    "- l – list – команда, которая выведет список всех документов в формате   \n",
    "**passport \"2207 876234\" \"Василий Гупкин\"**  \n",
    "- as – add shelf – команда, которая спросит номер новой полки и добавит ее в перечень. *Предусмотрите случай, когда пользователь добавляет полку, которая уже существует*.\n",
    "- d – delete – команда, которая спросит номер документа и удалит его из каталога и из перечня полок. *Предусмотрите сценарий, когда пользователь вводит несуществующий документ*;  \n",
    "- m – move – команда, которая спросит номер документа и целевую полку и переместит его с текущей полки на целевую. *Корректно обработайте кейсы, когда пользователь пытается переместить несуществующий документ или переместить документ на несуществующую полку*;  \n",
    "- a – add – команда, которая добавит новый документ в каталог и в перечень полок, спросив его номер, тип, имя владельца и номер полки, на котором он будет храниться. *Корректно обработайте ситуацию, когда пользователь будет пытаться добавить документ на несуществующую полку*."
   ]
  }
 ],
 "metadata": {
  "kernelspec": {
   "display_name": "Python 3",
   "language": "python",
   "name": "python3"
  },
  "language_info": {
   "codemirror_mode": {
    "name": "ipython",
    "version": 3
   },
   "file_extension": ".py",
   "mimetype": "text/x-python",
   "name": "python",
   "nbconvert_exporter": "python",
   "pygments_lexer": "ipython3",
   "version": "3.7.4"
  }
 },
 "nbformat": 4,
 "nbformat_minor": 2
}
