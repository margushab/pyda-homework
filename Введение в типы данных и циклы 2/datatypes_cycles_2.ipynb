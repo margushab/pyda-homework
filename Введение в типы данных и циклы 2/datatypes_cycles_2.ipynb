{
 "cells": [
  {
   "cell_type": "markdown",
   "metadata": {},
   "source": [
    "**Задание 1**. Дан список с визитами по городам и странам. \n",
    "Напишите код, который возвращает отфильтрованный список geo_logs, содержащий только визиты из России."
   ]
  },
  {
   "cell_type": "code",
   "execution_count": 42,
   "metadata": {},
   "outputs": [],
   "source": [
    "geo_logs = [\n",
    "    {'visit1': ['Москва', 'Россия']},\n",
    "    {'visit2': ['Дели', 'Индия']},\n",
    "    {'visit3': ['Владимир', 'Россия']},\n",
    "    {'visit4': ['Лиссабон', 'Португалия']},\n",
    "    {'visit5': ['Париж', 'Франция']},\n",
    "    {'visit6': ['Лиссабон', 'Португалия']},\n",
    "    {'visit7': ['Тула', 'Россия']},\n",
    "    {'visit8': ['Тула', 'Россия']},\n",
    "    {'visit9': ['Курск', 'Россия']},\n",
    "    {'visit10': ['Архангельск', 'Россия']}\n",
    "]"
   ]
  },
  {
   "cell_type": "code",
   "execution_count": 84,
   "metadata": {},
   "outputs": [
    {
     "name": "stdout",
     "output_type": "stream",
     "text": [
      "[['Москва', 'Россия'], ['Владимир', 'Россия'], ['Тула', 'Россия'], ['Тула', 'Россия'], ['Курск', 'Россия'], ['Архангельск', 'Россия']]\n",
      "\n",
      "[['Москва', 'Россия'], ['Владимир', 'Россия'], ['Тула', 'Россия'], ['Тула', 'Россия'], ['Курск', 'Россия'], ['Архангельск', 'Россия']]\n"
     ]
    }
   ],
   "source": [
    "filtered_logs = []\n",
    "for log in geo_logs:\n",
    "    values = log.values()\n",
    "    for value in values:\n",
    "        if 'Россия' in value:\n",
    "            filtered_logs.append(value)\n",
    "print(filtered_logs)\n",
    "print()\n",
    "filtered_logs = []\n",
    "for i in range (1, len(geo_logs) + 1):\n",
    "    if 'Россия' in geo_logs[i-1].get('visit' + str(i)):\n",
    "        filtered_logs.append(geo_logs[i-1].get('visit' + str(i)))\n",
    "print(filtered_logs)"
   ]
  },
  {
   "cell_type": "markdown",
   "metadata": {},
   "source": [
    "**Задание 2**. Выведите на экран все уникальные гео-ID из значений словаря ids. Т. е. список вида [213, 15, 54, 119, 98, 35]"
   ]
  },
  {
   "cell_type": "code",
   "execution_count": 108,
   "metadata": {},
   "outputs": [],
   "source": [
    "ids = {'user1': [213, 213, 213, 15, 213], \n",
    "       'user2': [54, 54, 119, 119, 119], \n",
    "       'user3': [213, 98, 98, 35]}"
   ]
  },
  {
   "cell_type": "code",
   "execution_count": 137,
   "metadata": {},
   "outputs": [
    {
     "name": "stdout",
     "output_type": "stream",
     "text": [
      "dict_values([[213, 213, 213, 15, 213], [54, 54, 119, 119, 119], [213, 98, 98, 35]])\n"
     ]
    }
   ],
   "source": [
    "print(ids.values())"
   ]
  },
  {
   "cell_type": "code",
   "execution_count": 143,
   "metadata": {},
   "outputs": [
    {
     "name": "stdout",
     "output_type": "stream",
     "text": [
      "[213, 15, 54, 119, 98, 35]\n"
     ]
    }
   ],
   "source": [
    "unique_digits = []\n",
    "for data in ids.values():\n",
    "    for digit in data:\n",
    "        if digit not in unique_digits:\n",
    "            unique_digits.append(digit)\n",
    "print(unique_digits)\n",
    "            \n",
    "            "
   ]
  },
  {
   "cell_type": "markdown",
   "metadata": {},
   "source": [
    "**Задание 3**. Дан список поисковых запросов. Получить распределение количества слов в них. \n",
    "Т. е. поисковых запросов из одного - слова 5%, из двух - 7%, из трех - 3% и т.д."
   ]
  },
  {
   "cell_type": "code",
   "execution_count": 1,
   "metadata": {},
   "outputs": [],
   "source": [
    "queries = [\n",
    "    'смотреть сериалы онлайн',\n",
    "    'новости спорта',\n",
    "    'афиша кино',\n",
    "    'курс доллара',\n",
    "    'сериалы этим летом',\n",
    "    'курс по питону',\n",
    "    'сериалы про спорт',\n",
    "]"
   ]
  },
  {
   "cell_type": "code",
   "execution_count": 11,
   "metadata": {},
   "outputs": [
    {
     "name": "stdout",
     "output_type": "stream",
     "text": [
      "Queries with 3 words 57.1%\n",
      "Queries with 2 words 42.9%\n"
     ]
    }
   ],
   "source": [
    "queries_dictionary = {}\n",
    "all_queries = len(queries)\n",
    "for text_queries in queries:\n",
    "    number_words = len(text_queries.split())\n",
    "    if number_words in queries_dictionary:\n",
    "        queries_dictionary[number_words] += 1\n",
    "    else:\n",
    "        queries_dictionary[number_words] = 1\n",
    "for key, value in queries_dictionary.items():\n",
    "    print('Queries with', key, 'words', '{:.1f}'.format(value/all_queries*100)+ '%')\n",
    "#print('Queries with two words:', '{:.1f}'.format(two_word_queries/all_queries*100)+ '%')\n",
    "#print('Queries with three words:', '{:.1f}'.format(three_word_queries/all_queries*100)+ '%') "
   ]
  },
  {
   "cell_type": "markdown",
   "metadata": {},
   "source": [
    "**Задание 4**. Дана статистика рекламных каналов по объемам продаж. Напишите скрипт, который возвращает название канала с максимальным объемом.\n",
    "Т. е. в данном примере скрипт должен возвращать 'yandex'."
   ]
  },
  {
   "cell_type": "code",
   "execution_count": 204,
   "metadata": {},
   "outputs": [],
   "source": [
    "stats = {'facebook': 55, 'yandex': 120, 'vk': 115, 'google': 99, 'email': 42, 'ok': 98}"
   ]
  },
  {
   "cell_type": "code",
   "execution_count": 205,
   "metadata": {},
   "outputs": [
    {
     "name": "stdout",
     "output_type": "stream",
     "text": [
      "facebook\n",
      "yandex\n"
     ]
    }
   ],
   "source": [
    "for channel, sales in stats.items():\n",
    "    if sales == max(stats.values()):\n",
    "        print(channel)"
   ]
  },
  {
   "cell_type": "markdown",
   "metadata": {},
   "source": [
    "**Задание 5**. Напишите код для преобразования произвольного списка вида ['2018-01-01', 'yandex', 'cpc', 100] (он может быть любой длины) в словарь {'2018-01-01': {'yandex': {'cpc': 100}}}"
   ]
  },
  {
   "cell_type": "code",
   "execution_count": 208,
   "metadata": {},
   "outputs": [
    {
     "name": "stdout",
     "output_type": "stream",
     "text": [
      "['2018-01-01', 'yandex', 'cpc', 100]\n"
     ]
    }
   ],
   "source": [
    "list =  ['2018-01-01', 'yandex', 'cpc', 100]\n",
    "print(list)"
   ]
  },
  {
   "cell_type": "code",
   "execution_count": 216,
   "metadata": {},
   "outputs": [
    {
     "name": "stdout",
     "output_type": "stream",
     "text": [
      "{'yandex': {'cpc': 100}}\n"
     ]
    }
   ],
   "source": [
    "var = list[-1]\n",
    "var = {list[-2]: var}\n",
    "var = {list[-3]: var}\n",
    "print(var)"
   ]
  },
  {
   "cell_type": "code",
   "execution_count": 223,
   "metadata": {},
   "outputs": [
    {
     "name": "stdout",
     "output_type": "stream",
     "text": [
      "{'2018-01-01': {'yandex': {'cpc': 100}}}\n"
     ]
    }
   ],
   "source": [
    "var = list[-1]\n",
    "for i in range (-2, -len(list)-1, -1):\n",
    "    var = {list[i]: var}\n",
    "print(var)\n",
    "    "
   ]
  },
  {
   "cell_type": "code",
   "execution_count": null,
   "metadata": {},
   "outputs": [],
   "source": []
  }
 ],
 "metadata": {
  "kernelspec": {
   "display_name": "Python 3",
   "language": "python",
   "name": "python3"
  },
  "language_info": {
   "codemirror_mode": {
    "name": "ipython",
    "version": 3
   },
   "file_extension": ".py",
   "mimetype": "text/x-python",
   "name": "python",
   "nbconvert_exporter": "python",
   "pygments_lexer": "ipython3",
   "version": "3.7.4"
  }
 },
 "nbformat": 4,
 "nbformat_minor": 2
}
