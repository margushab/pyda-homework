{
 "cells": [
  {
   "cell_type": "code",
   "execution_count": 44,
   "metadata": {},
   "outputs": [
    {
     "data": {
      "text/plain": [
       "True"
      ]
     },
     "execution_count": 44,
     "metadata": {},
     "output_type": "execute_result"
    }
   ],
   "source": [
    "long_phrase = \"Насколько проще было бы писать программы, если бы не заказчики\"\n",
    "short_phrase = \"640Кб должно хватить для любых задач. Билл Гейтс\"\n",
    "len (long_phrase) > len (short_phrase)"
   ]
  },
  {
   "cell_type": "code",
   "execution_count": 5,
   "metadata": {},
   "outputs": [
    {
     "name": "stdout",
     "output_type": "stream",
     "text": [
      "Размер файла равен 213.68 Мб\n"
     ]
    }
   ],
   "source": [
    "size = 213680000\n",
    "print ('Размер файла равен', size/ 10**6, 'Мб')"
   ]
  },
  {
   "cell_type": "code",
   "execution_count": 8,
   "metadata": {},
   "outputs": [
    {
     "name": "stdout",
     "output_type": "stream",
     "text": [
      "Введите зарплату: 100000\n",
      "Введите процент зарплаты на ипотеку: 30\n",
      "Введите процент затрат на жизнь: 50\n",
      "Введите количество премий в год: 2\n"
     ]
    }
   ],
   "source": [
    "income = int(input('Введите зарплату: '))\n",
    "mortgage_rate = int(input('Введите процент зарплаты на ипотеку: '))\n",
    "spendings_perc = int(input('Введите процент затрат на жизнь: '))\n",
    "number_promo = int(input('Введите количество премий в год: '))"
   ]
  },
  {
   "cell_type": "code",
   "execution_count": 9,
   "metadata": {},
   "outputs": [
    {
     "name": "stdout",
     "output_type": "stream",
     "text": [
      "На ипотеку было потрачено: 360000.0 рублей\n",
      "Было накоплено: 340000.0 рублей\n"
     ]
    }
   ],
   "source": [
    "mortgage_cost = mortgage_rate/100*income*12\n",
    "spendings = income*spendings_perc/100*12\n",
    "savings = income*12 - mortgage_cost - spendings + number_promo*income/2\n",
    "print('На ипотеку было потрачено:', mortgage_cost, 'рублей' )\n",
    "print('Было накоплено:', savings, 'рублей' )"
   ]
  },
  {
   "cell_type": "code",
   "execution_count": 6,
   "metadata": {},
   "outputs": [
    {
     "name": "stdout",
     "output_type": "stream",
     "text": [
      "Month: November\n",
      "Day of birth: 5\n",
      "Conclusion:  Скорпион\n"
     ]
    }
   ],
   "source": [
    "month = input('Month: ')\n",
    "day = int(input('Day of birth: '))\n",
    "sign = ''\n",
    "if day > 0:\n",
    "    if month == 'January':\n",
    "        if day <= 20:\n",
    "            sign = 'Козерог'\n",
    "        elif day <= 31:\n",
    "            sign = 'Водолей'\n",
    "    if month == 'February':\n",
    "        if day <=20:\n",
    "            sign= 'Водолей'\n",
    "        elif day < 29:\n",
    "            sign= 'Рыбы '\n",
    "    if month == 'March':\n",
    "        if day <= 20:\n",
    "            sign = 'Рыбы'\n",
    "        elif day > 21:\n",
    "            sign = 'Овен'\n",
    "    if month == 'April':\n",
    "        if day <= 20:\n",
    "            sign= 'Овен'\n",
    "        elif day >20:\n",
    "            sign= 'Телец'\n",
    "    if month == 'May':\n",
    "        if day <= 20:\n",
    "            sign= 'Телец'\n",
    "        elif day >20:\n",
    "            sign= 'Близнецы'\n",
    "    if month == 'June':\n",
    "        if day <= 21:\n",
    "            sign= 'Близнецы'\n",
    "        elif day > 21:\n",
    "            sign= 'Рак'\n",
    "    if month == 'July':\n",
    "        if day <= 21:\n",
    "            sign= 'Рак'\n",
    "        elif day > 21:\n",
    "            sign= 'Лев'\n",
    "    if month == 'August':\n",
    "        if day <= 23:\n",
    "            sign= 'Лев'\n",
    "        elif day >23:\n",
    "            sign= 'Дева'\n",
    "    if month == 'September':\n",
    "        if day <= 23:\n",
    "            sign= 'Дева'\n",
    "        elif day > 23:\n",
    "            sign= 'Весы'\n",
    "    if month == 'October':\n",
    "        if day <= 23:\n",
    "            sign= 'Весы'\n",
    "        elif day > 23:\n",
    "            sign= 'Скорпион'\n",
    "    if month == 'November':\n",
    "        if day <= 22:\n",
    "            sign= 'Скорпион'\n",
    "        elif day > 22:\n",
    "            sign= 'Стрелец'\n",
    "    if month == 'December':\n",
    "        if day <= 21:\n",
    "            sign= 'Стрелец'\n",
    "        elif day > 21:\n",
    "            sign= 'Козерог'\n",
    "    \n",
    "if len(sign) > 0:       \n",
    "    print('Conclusion: ', sign)\n",
    "else:\n",
    "    print('Input correct date.')"
   ]
  },
  {
   "cell_type": "code",
   "execution_count": null,
   "metadata": {},
   "outputs": [],
   "source": []
  },
  {
   "cell_type": "code",
   "execution_count": null,
   "metadata": {},
   "outputs": [],
   "source": []
  },
  {
   "cell_type": "code",
   "execution_count": null,
   "metadata": {},
   "outputs": [],
   "source": []
  }
 ],
 "metadata": {
  "kernelspec": {
   "display_name": "Python 3",
   "language": "python",
   "name": "python3"
  }
 },
 "nbformat": 4,
 "nbformat_minor": 2
}
